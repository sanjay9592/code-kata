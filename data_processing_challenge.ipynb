{
 "cells": [
  {
   "cell_type": "markdown",
   "metadata": {},
   "source": [
    "GENERATE CSV"
   ]
  },
  {
   "cell_type": "code",
   "execution_count": null,
   "metadata": {},
   "outputs": [],
   "source": [
    "import csv\n",
    "from  faker import Faker\n",
    "import os\n",
    "\n",
    "def generateCsv(filename, schema):\n",
    "    fake = Faker()\n",
    "    target_size = 2 * 1024 * 1024 * 1024  # 2 GB\n",
    "    file_size = os.path.getsize(filename)\n",
    "    with open(filename,'w') as file:\n",
    "        csvwriter = csv.writer(file)\n",
    "        csvwriter.writerow(schema)\n",
    "        while file_size < target_size:\n",
    "            row = [fake.first_name(),fake.last_name(),fake.address().replace(\"\\n\", \", \"),fake.date_of_birth().strftime(\"%Y-%m-%d\")]\n",
    "            csvwriter.writerow(row)\n",
    "            file_size = os.path.getsize(filename)"
   ]
  },
  {
   "cell_type": "code",
   "execution_count": null,
   "metadata": {},
   "outputs": [],
   "source": []
  },
  {
   "cell_type": "code",
   "execution_count": null,
   "metadata": {},
   "outputs": [],
   "source": [
    "schema = [\"first_name\", \"last_name\", \"address\", \"date_of_birth\"]\n",
    "filename = \"outputfile.csv\"\n",
    "generateCsv(filename, schema)"
   ]
  },
  {
   "cell_type": "markdown",
   "metadata": {},
   "source": [
    "Data Anonymity"
   ]
  },
  {
   "cell_type": "code",
   "execution_count": null,
   "metadata": {},
   "outputs": [],
   "source": [
    "from pyspark.sql import SparkSession\n",
    "\n",
    "spark = (SparkSession.\n",
    "         builder.\n",
    "         appName(\"data_processing\").\n",
    "         config(\"spark.executor.instances\",8).\n",
    "         config(\"spark.executor.cores\",8).\n",
    "         config(\"spark.executor.memory\",\"512M\")\n",
    "         .getOrCreate())\n",
    "\n",
    "\n"
   ]
  },
  {
   "cell_type": "code",
   "execution_count": null,
   "metadata": {},
   "outputs": [],
   "source": [
    "schema = \"first_name String, last_name String, address String\"\n",
    "df = spark.read.csv(\"outputfile.csv\",schema)\n",
    "\n",
    "df.show(20)"
   ]
  },
  {
   "cell_type": "code",
   "execution_count": null,
   "metadata": {},
   "outputs": [],
   "source": []
  }
 ],
 "metadata": {
  "kernelspec": {
   "display_name": "Python 3",
   "language": "python",
   "name": "python3"
  },
  "language_info": {
   "codemirror_mode": {
    "name": "ipython",
    "version": 3
   },
   "file_extension": ".py",
   "mimetype": "text/x-python",
   "name": "python",
   "nbconvert_exporter": "python",
   "pygments_lexer": "ipython3",
   "version": "3.12.3"
  }
 },
 "nbformat": 4,
 "nbformat_minor": 2
}
